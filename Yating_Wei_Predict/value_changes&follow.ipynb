{
 "cells": [
  {
   "cell_type": "code",
   "execution_count": 29,
   "metadata": {},
   "outputs": [],
   "source": [
    "import pandas as pd\n",
    "import numpy as np\n",
    "import seaborn as sns\n",
    "from matplotlib import pyplot as plt\n",
    "from sklearn.svm import SVR\n",
    "\n",
    "from sklearn.model_selection import train_test_split\n",
    "from sklearn.feature_selection import f_regression\n",
    "from sklearn.metrics import explained_variance_score\n",
    "from sklearn.metrics import mean_absolute_error\n",
    "from sklearn.metrics import mean_squared_error"
   ]
  },
  {
   "cell_type": "code",
   "execution_count": 2,
   "metadata": {},
   "outputs": [],
   "source": [
    "set_always = pd.read_csv('set_always.csv')\n",
    "set_always = set_always.drop(columns=['Unnamed: 0'])\n",
    "set_always['follow'] = 1\n",
    "set_never = pd.read_csv('set_never.csv')\n",
    "set_never = set_never.drop(columns=['Unnamed: 0'])\n",
    "set_never['follow'] = 0\n",
    "shar = pd.read_csv('shar.csv')\n",
    "shar = shar.drop(columns=['Unnamed: 0'])\n",
    "df = pd.read_csv('df.csv')\n",
    "df = df.drop(columns=['Unnamed: 0'])"
   ]
  },
  {
   "cell_type": "code",
   "execution_count": 3,
   "metadata": {
    "scrolled": true
   },
   "outputs": [
    {
     "name": "stdout",
     "output_type": "stream",
     "text": [
      "           Company name   Deal date  Investment amount filing_date  \\\n",
      "0           City Pantry  2018-01-13            42336.0  2018-03-13   \n",
      "1           City Pantry  2018-01-13            42336.0  2018-03-13   \n",
      "2           City Pantry  2018-01-13            42336.0  2018-03-13   \n",
      "3      MWR InfoSecurity  2017-06-29          1300000.0  2018-05-20   \n",
      "4         NewVoiceMedia  2018-03-27           116512.0  2018-06-28   \n",
      "...                 ...         ...                ...         ...   \n",
      "23259         Hostmaker  2016-09-20           849994.0  2016-12-03   \n",
      "23260         Hostmaker  2016-09-20           849994.0  2016-12-03   \n",
      "23261         Hostmaker  2016-09-20           849994.0  2016-12-03   \n",
      "23262         Hostmaker  2017-11-07         11302995.0  2018-12-03   \n",
      "23263             âcasă  2018-06-20          3286339.0  2018-07-19   \n",
      "\n",
      "              Investor name  number_of_shares  percent_total Current stage  \\\n",
      "0            _ANGEL CO FUND          174939.0          5.681        Exited   \n",
      "1            HARVARD_PALMER           87469.0          2.841        Exited   \n",
      "2           MANVINDER_BANGA           35582.0          1.156        Exited   \n",
      "3            EDWARD_WALLACE           25362.0          0.044        Exited   \n",
      "4            NIGEL_JOHNSTON           28500.0          0.014        Exited   \n",
      "...                     ...               ...            ...           ...   \n",
      "23259           BRIGHT_PARK             600.0          0.285          Dead   \n",
      "23260         BRETT_HALFORD             400.0          0.190          Dead   \n",
      "23261        BALWANT_SHARMA            1000.0          0.476          Dead   \n",
      "23262  ARTHIT_SURIYABHIVADH            5000.0          1.036          Dead   \n",
      "23263      _SEEDCAMP III LP           64938.0          2.693          Dead   \n",
      "\n",
      "      Incorporation date   Exit date   Exit price  total_shares  round_shares  \\\n",
      "0             13/03/2013  2019-07-12   16000000.0  3.078815e+06  8.496028e+05   \n",
      "1             13/03/2013  2019-07-12   16000000.0  3.078815e+06  8.496028e+05   \n",
      "2             13/03/2013  2019-07-12   16000000.0  3.078815e+06  8.496028e+05   \n",
      "3             30/05/2002  2018-06-18   82296119.0  5.761983e+07 -1.057864e+08   \n",
      "4             23/07/1998  2018-09-20  263749447.1  2.030867e+08  1.387804e+07   \n",
      "...                  ...         ...          ...           ...           ...   \n",
      "23259         03/12/2013  2020-02-28          0.0  2.101727e+05  2.101727e+05   \n",
      "23260         03/12/2013  2020-02-28          0.0  2.101727e+05  2.101727e+05   \n",
      "23261         03/12/2013  2020-02-28          0.0  2.101727e+05  2.101727e+05   \n",
      "23262         03/12/2013  2020-02-28          0.0  4.823625e+05  1.401750e+05   \n",
      "23263         19/07/2013  2020-03-18          0.0  2.411363e+06  7.823786e+05   \n",
      "\n",
      "        exit_shares  rounds  add_shares        paid_in    total_value  \\\n",
      "0      5.081639e+06       3     47540.0    2368.934486  550811.255388   \n",
      "1      5.081639e+06       3     23770.0    1184.467243  275404.053399   \n",
      "2      5.081639e+06       3     10102.0     503.386121  112033.143491   \n",
      "3      6.461138e+07       3    -13658.0     167.841967   32303.814613   \n",
      "4      2.039527e+08       3     25000.0     209.885581   36855.888592   \n",
      "...             ...     ...         ...            ...            ...   \n",
      "23259  4.823625e+05       3         NaN    2426.558214       0.000000   \n",
      "23260  4.823625e+05       3         NaN    1617.705476       0.000000   \n",
      "23261  4.823625e+05       3         NaN    4044.263689       0.000000   \n",
      "23262  4.823625e+05       3         NaN  403174.351603       0.000000   \n",
      "23263  2.597520e+06       3         NaN  272768.564154       0.000000   \n",
      "\n",
      "             TVPI  follow  \n",
      "0      232.514347       1  \n",
      "1      232.513018       1  \n",
      "2      222.559063       1  \n",
      "3      192.465658       1  \n",
      "4      175.599907       1  \n",
      "...           ...     ...  \n",
      "23259    0.000000       0  \n",
      "23260    0.000000       0  \n",
      "23261    0.000000       0  \n",
      "23262    0.000000       0  \n",
      "23263    0.000000       0  \n",
      "\n",
      "[27856 rows x 20 columns]\n"
     ]
    }
   ],
   "source": [
    "train = pd.concat([set_always,set_never])\n",
    "print(train)"
   ]
  },
  {
   "cell_type": "code",
   "execution_count": 4,
   "metadata": {},
   "outputs": [
    {
     "data": {
      "text/html": [
       "<div>\n",
       "<style scoped>\n",
       "    .dataframe tbody tr th:only-of-type {\n",
       "        vertical-align: middle;\n",
       "    }\n",
       "\n",
       "    .dataframe tbody tr th {\n",
       "        vertical-align: top;\n",
       "    }\n",
       "\n",
       "    .dataframe thead th {\n",
       "        text-align: right;\n",
       "    }\n",
       "</style>\n",
       "<table border=\"1\" class=\"dataframe\">\n",
       "  <thead>\n",
       "    <tr style=\"text-align: right;\">\n",
       "      <th></th>\n",
       "      <th>Company name</th>\n",
       "      <th>filing_date</th>\n",
       "      <th>Investment amount</th>\n",
       "      <th>total_shares</th>\n",
       "      <th>round_shares</th>\n",
       "      <th>exit_shares</th>\n",
       "      <th>rounds</th>\n",
       "      <th>shares_value</th>\n",
       "    </tr>\n",
       "  </thead>\n",
       "  <tbody>\n",
       "    <tr>\n",
       "      <th>1</th>\n",
       "      <td>201 Software</td>\n",
       "      <td>2017-09-03</td>\n",
       "      <td>29999.0</td>\n",
       "      <td>1.974708e+04</td>\n",
       "      <td>1.974608e+04</td>\n",
       "      <td>2.030000e+03</td>\n",
       "      <td>3.0</td>\n",
       "      <td>0.029999</td>\n",
       "    </tr>\n",
       "    <tr>\n",
       "      <th>3</th>\n",
       "      <td>2BE Technology</td>\n",
       "      <td>2015-12-18</td>\n",
       "      <td>80000.0</td>\n",
       "      <td>5.200208e+04</td>\n",
       "      <td>5.200208e+04</td>\n",
       "      <td>5.200208e+04</td>\n",
       "      <td>1.0</td>\n",
       "      <td>0.171487</td>\n",
       "    </tr>\n",
       "    <tr>\n",
       "      <th>6</th>\n",
       "      <td>3-Cs</td>\n",
       "      <td>2013-06-29</td>\n",
       "      <td>333882.0</td>\n",
       "      <td>2.032520e+06</td>\n",
       "      <td>2.032520e+06</td>\n",
       "      <td>2.849003e+06</td>\n",
       "      <td>3.0</td>\n",
       "      <td>10433.059350</td>\n",
       "    </tr>\n",
       "    <tr>\n",
       "      <th>5</th>\n",
       "      <td>3-Cs</td>\n",
       "      <td>2014-06-29</td>\n",
       "      <td>117250.0</td>\n",
       "      <td>2.453988e+06</td>\n",
       "      <td>4.214674e+05</td>\n",
       "      <td>2.849003e+06</td>\n",
       "      <td>3.0</td>\n",
       "      <td>1172.500000</td>\n",
       "    </tr>\n",
       "    <tr>\n",
       "      <th>4</th>\n",
       "      <td>3-Cs</td>\n",
       "      <td>2015-06-29</td>\n",
       "      <td>196000.0</td>\n",
       "      <td>2.849003e+06</td>\n",
       "      <td>3.950151e+05</td>\n",
       "      <td>2.849003e+06</td>\n",
       "      <td>3.0</td>\n",
       "      <td>0.969287</td>\n",
       "    </tr>\n",
       "  </tbody>\n",
       "</table>\n",
       "</div>"
      ],
      "text/plain": [
       "     Company name filing_date  Investment amount  total_shares  round_shares  \\\n",
       "1    201 Software  2017-09-03            29999.0  1.974708e+04  1.974608e+04   \n",
       "3  2BE Technology  2015-12-18            80000.0  5.200208e+04  5.200208e+04   \n",
       "6            3-Cs  2013-06-29           333882.0  2.032520e+06  2.032520e+06   \n",
       "5            3-Cs  2014-06-29           117250.0  2.453988e+06  4.214674e+05   \n",
       "4            3-Cs  2015-06-29           196000.0  2.849003e+06  3.950151e+05   \n",
       "\n",
       "    exit_shares  rounds  shares_value  \n",
       "1  2.030000e+03     3.0      0.029999  \n",
       "3  5.200208e+04     1.0      0.171487  \n",
       "6  2.849003e+06     3.0  10433.059350  \n",
       "5  2.849003e+06     3.0   1172.500000  \n",
       "4  2.849003e+06     3.0      0.969287  "
      ]
     },
     "execution_count": 4,
     "metadata": {},
     "output_type": "execute_result"
    }
   ],
   "source": [
    "df_copy = df.loc[:,['Company name','filing_date','Investment amount']]\n",
    "df_copy = df_copy.drop_duplicates(subset=None, keep='last', inplace=False)\n",
    "shar_df = pd.merge(df_copy,shar,on=['Company name','filing_date'],how='left')\n",
    "# shar_df = shar_df.dropna()\n",
    "shar_df = shar_df.loc[(shar_df['round_shares']>0)]\n",
    "shar_df = shar_df.drop_duplicates(subset=None, keep='last', inplace=False)\n",
    "shar_df['shares_value'] = shar_df['Investment amount']/shar['round_shares']\n",
    "shar_df = shar_df.sort_values(by=['Company name','filing_date'])\n",
    "shar_df.head()"
   ]
  },
  {
   "cell_type": "code",
   "execution_count": 5,
   "metadata": {
    "scrolled": true
   },
   "outputs": [
    {
     "name": "stderr",
     "output_type": "stream",
     "text": [
      "C:\\Users\\asus\\Anaconda3\\envs\\mlp\\lib\\site-packages\\pandas\\core\\indexing.py:1637: SettingWithCopyWarning: \n",
      "A value is trying to be set on a copy of a slice from a DataFrame\n",
      "\n",
      "See the caveats in the documentation: https://pandas.pydata.org/pandas-docs/stable/user_guide/indexing.html#returning-a-view-versus-a-copy\n",
      "  self._setitem_single_block(indexer, value, name)\n",
      "<ipython-input-5-6e42bc3f74dc>:5: RuntimeWarning: divide by zero encountered in double_scalars\n",
      "  shar_df['value_change'].iloc[i] = shar_df['shares_value'].iloc[i]/shar_df['shares_value'].iloc[i-1]*shar_df['value_change'].iloc[i-1]\n",
      "<ipython-input-5-6e42bc3f74dc>:5: RuntimeWarning: invalid value encountered in double_scalars\n",
      "  shar_df['value_change'].iloc[i] = shar_df['shares_value'].iloc[i]/shar_df['shares_value'].iloc[i-1]*shar_df['value_change'].iloc[i-1]\n"
     ]
    }
   ],
   "source": [
    "shar_df['value_change'] = ''\n",
    "length_column = shar_df.shape[0]\n",
    "for i in range(0,length_column):\n",
    "    if shar_df['Company name'].iloc[i] == shar_df['Company name'].iloc[i-1]:\n",
    "        shar_df['value_change'].iloc[i] = shar_df['shares_value'].iloc[i]/shar_df['shares_value'].iloc[i-1]*shar_df['value_change'].iloc[i-1]\n",
    "    else:\n",
    "        shar_df['value_change'].iloc[i] = 1"
   ]
  },
  {
   "cell_type": "code",
   "execution_count": 6,
   "metadata": {
    "scrolled": true
   },
   "outputs": [
    {
     "name": "stdout",
     "output_type": "stream",
     "text": [
      "<class 'pandas.core.frame.DataFrame'>\n",
      "Int64Index: 2840 entries, 1 to 3340\n",
      "Data columns (total 3 columns):\n",
      " #   Column        Non-Null Count  Dtype \n",
      "---  ------        --------------  ----- \n",
      " 0   Company name  2840 non-null   object\n",
      " 1   filing_date   2840 non-null   object\n",
      " 2   value_change  2832 non-null   object\n",
      "dtypes: object(3)\n",
      "memory usage: 88.8+ KB\n"
     ]
    }
   ],
   "source": [
    "value = shar_df.loc[:,['Company name','filing_date','value_change']]\n",
    "# value['value_change'] = value['value_change'].astype('float')\n",
    "value.info()"
   ]
  },
  {
   "cell_type": "code",
   "execution_count": 7,
   "metadata": {},
   "outputs": [
    {
     "name": "stdout",
     "output_type": "stream",
     "text": [
      "<class 'pandas.core.frame.DataFrame'>\n",
      "Int64Index: 27856 entries, 0 to 27855\n",
      "Data columns (total 21 columns):\n",
      " #   Column              Non-Null Count  Dtype  \n",
      "---  ------              --------------  -----  \n",
      " 0   Company name        27856 non-null  object \n",
      " 1   Deal date           27856 non-null  object \n",
      " 2   Investment amount   27856 non-null  float64\n",
      " 3   filing_date         27856 non-null  object \n",
      " 4   Investor name       27856 non-null  object \n",
      " 5   number_of_shares    27856 non-null  float64\n",
      " 6   percent_total       27856 non-null  float64\n",
      " 7   Current stage       27856 non-null  object \n",
      " 8   Incorporation date  27414 non-null  object \n",
      " 9   Exit date           27856 non-null  object \n",
      " 10  Exit price          27856 non-null  float64\n",
      " 11  total_shares        27856 non-null  float64\n",
      " 12  round_shares        27856 non-null  float64\n",
      " 13  exit_shares         27856 non-null  float64\n",
      " 14  rounds              27856 non-null  int64  \n",
      " 15  add_shares          4592 non-null   float64\n",
      " 16  paid_in             27856 non-null  float64\n",
      " 17  total_value         27856 non-null  float64\n",
      " 18  TVPI                27856 non-null  float64\n",
      " 19  follow              27856 non-null  int64  \n",
      " 20  value_change        27674 non-null  object \n",
      "dtypes: float64(11), int64(2), object(8)\n",
      "memory usage: 4.7+ MB\n"
     ]
    }
   ],
   "source": [
    "values = pd.merge(train,value,on=['Company name','filing_date'],how='left')\n",
    "values.info()"
   ]
  },
  {
   "cell_type": "code",
   "execution_count": 8,
   "metadata": {
    "scrolled": false
   },
   "outputs": [],
   "source": [
    "# values.info()\n",
    "# values.to_csv(r'values.csv')"
   ]
  },
  {
   "cell_type": "code",
   "execution_count": 64,
   "metadata": {
    "scrolled": true
   },
   "outputs": [
    {
     "data": {
      "image/png": "[encoded data removed]",
      "text/plain": [
       "<Figure size 720x360 with 1 Axes>"
      ]
     },
     "metadata": {},
     "output_type": "display_data"
    }
   ],
   "source": [
    "values = values.loc[(values['value_change']<30)]\n",
    "values = values.loc[(values['value_change']>0)]\n",
    "train_a = values.loc[(values['follow']==1)]\n",
    "train_n = values.loc[(values['follow']==0)]\n",
    "plt.figure(figsize=(10,5))\n",
    "x_a = train_a['value_change'].values.tolist()\n",
    "y_a = train_a['TVPI'].values.tolist()\n",
    "x_n = train_n['value_change'].values.tolist()\n",
    "y_n = train_n['TVPI'].values.tolist()\n",
    "plt.scatter(x_a,y_a,marker='.',label='always-follow')\n",
    "plt.scatter(x_n,y_n,marker='.',label='never-follow')\n",
    "plt.xlim(-1,30)\n",
    "plt.xlabel('valuation changes(X)')\n",
    "plt.ylabel('TVPI(X)')\n",
    "plt.legend()\n",
    "plt.title(\"TVPI of Different Valuation Changes\")\n",
    "plt.show()"
   ]
  },
  {
   "cell_type": "code",
   "execution_count": 10,
   "metadata": {},
   "outputs": [],
   "source": [
    "always_mean = np.mean(train_a['TVPI'].values.tolist())\n",
    "always_20 = train_a.loc[(train_a['TVPI']>=20)].shape[0]\n",
    "always_10 = train_a.loc[(train_a['TVPI']>=10)&(train_a['TVPI']<20)].shape[0]\n",
    "always_5 = train_a.loc[(train_a['TVPI']>=5)&(train_a['TVPI']<10)].shape[0]\n",
    "always_3 = train_a.loc[(train_a['TVPI']>=3)&(train_a['TVPI']<5)].shape[0]\n",
    "always_1 = train_a.loc[(train_a['TVPI']>=1)&(train_a['TVPI']<3)].shape[0]\n",
    "always_0 = train_a.loc[(train_a['TVPI']<1)].shape[0]\n",
    "never_mean = np.mean(train_n['TVPI'].values.tolist())\n",
    "never_20 = train_n.loc[(train_n['TVPI']>=20)].shape[0]\n",
    "never_10 = train_n.loc[(train_n['TVPI']>=10)&(train_n['TVPI']<20)].shape[0]\n",
    "never_5 = train_n.loc[(train_n['TVPI']>=5)&(train_n['TVPI']<10)].shape[0]\n",
    "never_3 = train_n.loc[(train_n['TVPI']>=3)&(train_n['TVPI']<5)].shape[0]\n",
    "never_1 = train_n.loc[(train_n['TVPI']>=1)&(train_n['TVPI']<3)].shape[0]\n",
    "never_0 = train_n.loc[(train_n['TVPI']<1)].shape[0]"
   ]
  },
  {
   "cell_type": "code",
   "execution_count": 11,
   "metadata": {
    "scrolled": true
   },
   "outputs": [
    {
     "data": {
      "text/html": [
       "<div>\n",
       "<style scoped>\n",
       "    .dataframe tbody tr th:only-of-type {\n",
       "        vertical-align: middle;\n",
       "    }\n",
       "\n",
       "    .dataframe tbody tr th {\n",
       "        vertical-align: top;\n",
       "    }\n",
       "\n",
       "    .dataframe thead th {\n",
       "        text-align: right;\n",
       "    }\n",
       "</style>\n",
       "<table border=\"1\" class=\"dataframe\">\n",
       "  <thead>\n",
       "    <tr style=\"text-align: right;\">\n",
       "      <th></th>\n",
       "      <th>Always-Follow</th>\n",
       "      <th>Never-Follow</th>\n",
       "    </tr>\n",
       "  </thead>\n",
       "  <tbody>\n",
       "    <tr>\n",
       "      <th>mean TVPI</th>\n",
       "      <td>1.063024</td>\n",
       "      <td>2.382364</td>\n",
       "    </tr>\n",
       "    <tr>\n",
       "      <th>TVPI＜1</th>\n",
       "      <td>2626.000000</td>\n",
       "      <td>18052.000000</td>\n",
       "    </tr>\n",
       "    <tr>\n",
       "      <th>1≤TVPI＜3</th>\n",
       "      <td>19.000000</td>\n",
       "      <td>396.000000</td>\n",
       "    </tr>\n",
       "    <tr>\n",
       "      <th>3≤TVPI＜5</th>\n",
       "      <td>12.000000</td>\n",
       "      <td>51.000000</td>\n",
       "    </tr>\n",
       "    <tr>\n",
       "      <th>5≤TVPI＜10</th>\n",
       "      <td>27.000000</td>\n",
       "      <td>273.000000</td>\n",
       "    </tr>\n",
       "    <tr>\n",
       "      <th>10≤TVPI＜20</th>\n",
       "      <td>19.000000</td>\n",
       "      <td>396.000000</td>\n",
       "    </tr>\n",
       "    <tr>\n",
       "      <th>20≤TVPI</th>\n",
       "      <td>25.000000</td>\n",
       "      <td>521.000000</td>\n",
       "    </tr>\n",
       "  </tbody>\n",
       "</table>\n",
       "</div>"
      ],
      "text/plain": [
       "            Always-Follow  Never-Follow\n",
       "mean TVPI        1.063024      2.382364\n",
       "TVPI＜1        2626.000000  18052.000000\n",
       "1≤TVPI＜3        19.000000    396.000000\n",
       "3≤TVPI＜5        12.000000     51.000000\n",
       "5≤TVPI＜10       27.000000    273.000000\n",
       "10≤TVPI＜20      19.000000    396.000000\n",
       "20≤TVPI         25.000000    521.000000"
      ]
     },
     "execution_count": 11,
     "metadata": {},
     "output_type": "execute_result"
    }
   ],
   "source": [
    "data = {'Always-Follow':[always_mean,always_0,always_1,always_3,always_5,always_10,always_20],\n",
    "       'Never-Follow':[never_mean,never_0,never_1,never_3,never_5,never_10,never_20]}\n",
    "count = pd.DataFrame(data,index=['mean TVPI','TVPI＜1','1≤TVPI＜3','3≤TVPI＜5','5≤TVPI＜10','10≤TVPI＜20','20≤TVPI'])\n",
    "count"
   ]
  },
  {
   "cell_type": "code",
   "execution_count": 25,
   "metadata": {
    "scrolled": true
   },
   "outputs": [
    {
     "data": {
      "image/png": "[encoded data removed]",
      "text/plain": [
       "<Figure size 432x288 with 1 Axes>"
      ]
     },
     "metadata": {
      "needs_background": "light"
     },
     "output_type": "display_data"
    }
   ],
   "source": [
    "labels = ['TVPI<1','1≤TVPI<3','3≤TVPI<5','5≤TVPI<10','10≤TVPI<20','20≤TVPI']\n",
    "always_y = [always_0,always_1,always_3,always_5,always_10,always_20]\n",
    "never_y = [never_0,never_1,never_3,never_5,never_10,never_20]\n",
    "\n",
    "x = np.arange(len(labels))  # the label locations\n",
    "width = 0.35  # the width of the bars\n",
    "\n",
    "fig, ax = plt.subplots()\n",
    "rects1 = ax.bar(x - width/2, always_y, width, label='Always-Follow')\n",
    "rects2 = ax.bar(x + width/2, never_y, width, label='Never-Follow')\n",
    "\n",
    "# Add some text for labels, title and custom x-axis tick labels, etc.\n",
    "ax.set_ylabel('number')\n",
    "ax.set_title('TVPI by group and follow-on strategies')\n",
    "ax.set_xticks(x)\n",
    "ax.set_xticklabels(labels)\n",
    "ax.legend()\n",
    "\n",
    "# ax.bar_label(rects1, padding=3)\n",
    "# ax.bar_label(rects2, padding=3)\n",
    "\n",
    "fig.tight_layout()\n",
    "\n",
    "plt.show()"
   ]
  },
  {
   "cell_type": "code",
   "execution_count": 13,
   "metadata": {},
   "outputs": [],
   "source": [
    "# always1 = train_a.loc[(train_a['TVPI']<1)].sample(n=100,random_state=33,axis=0)\n",
    "# always2 = train_a.loc[(train_a['TVPI']>=1)]\n",
    "# always_balanced = pd.concat([always1,always2])\n",
    "# never1 = train_n.loc[(train_n['TVPI']<1)].sample(n=1000,random_state=33,axis=0)\n",
    "# never2 = train_n.loc[(train_n['TVPI']>=1)]\n",
    "# never_balanced = pd.concat([never1,never2])"
   ]
  },
  {
   "cell_type": "code",
   "execution_count": 14,
   "metadata": {},
   "outputs": [],
   "source": [
    "# plt.figure(figsize=(10,5))\n",
    "# x_ab = always_balanced['value_change'].values.tolist()\n",
    "# y_ab = always_balanced['TVPI'].values.tolist()\n",
    "# x_nb = never_balanced['value_change'].values.tolist()\n",
    "# y_nb = never_balanced['TVPI'].values.tolist()\n",
    "# plt.scatter(x_ab,y_ab,marker='.',color='brown',label='always-follow')\n",
    "# plt.scatter(x_nb,y_nb,marker='.',color='navy',label='never-follow')\n",
    "# plt.legend()\n",
    "# plt.title(\"TVPI of Different Valuation Changes on Balanced Dataset\")\n",
    "# plt.show()"
   ]
  },
  {
   "cell_type": "code",
   "execution_count": 15,
   "metadata": {
    "scrolled": true
   },
   "outputs": [],
   "source": [
    "# data = {'Always-Follow':[always_mean,100,always_1,always_3,always_5,always_10,always_20],\n",
    "#        'Never-Follow':[never_mean,1000,never_1,never_3,never_5,never_10,never_20]}\n",
    "# count = pd.DataFrame(data,index=['mean TVPI','TVPI＜1','1≤TVPI＜3','3≤TVPI＜5','5≤TVPI＜10','10≤TVPI＜20','20≤TVPI'])\n",
    "# count.head()"
   ]
  },
  {
   "cell_type": "code",
   "execution_count": 16,
   "metadata": {},
   "outputs": [],
   "source": [
    "# labels = ['TVPI<1','1≤TVPI<3','3≤TVPI<5','5≤TVPI<10','10≤TVPI<20','20≤TVPI']\n",
    "# always_y = [100,always_1,always_3,always_5,always_10,always_20]\n",
    "# never_y = [1000,never_1,never_3,never_5,never_10,never_20]\n",
    "\n",
    "# x = np.arange(len(labels))  # the label locations\n",
    "# width = 0.35  # the width of the bars\n",
    "\n",
    "# fig, ax = plt.subplots()\n",
    "# rects1 = ax.bar(x - width/2, always_y, width, label='Always-Follow')\n",
    "# rects2 = ax.bar(x + width/2, never_y, width, label='Never-Follow')\n",
    "\n",
    "# # Add some text for labels, title and custom x-axis tick labels, etc.\n",
    "# ax.set_ylabel('number')\n",
    "# ax.set_title('TVPI by group and follow-on strategies')\n",
    "# ax.set_xticks(x)\n",
    "# ax.set_xticklabels(labels)\n",
    "# ax.legend()\n",
    "\n",
    "# # ax.bar_label(rects1, padding=3)\n",
    "# # ax.bar_label(rects2, padding=3)\n",
    "\n",
    "# fig.tight_layout()\n",
    "\n",
    "# plt.show()"
   ]
  },
  {
   "cell_type": "code",
   "execution_count": 17,
   "metadata": {
    "scrolled": true
   },
   "outputs": [
    {
     "name": "stdout",
     "output_type": "stream",
     "text": [
      "           Company name   Deal date  Investment amount filing_date  \\\n",
      "0           City Pantry  2018-01-13            42336.0  2018-03-13   \n",
      "1           City Pantry  2018-01-13            42336.0  2018-03-13   \n",
      "2           City Pantry  2018-01-13            42336.0  2018-03-13   \n",
      "3      MWR InfoSecurity  2017-06-29          1300000.0  2018-05-20   \n",
      "4         NewVoiceMedia  2018-03-27           116512.0  2018-06-28   \n",
      "...                 ...         ...                ...         ...   \n",
      "23259         Hostmaker  2016-09-20           849994.0  2016-12-03   \n",
      "23260         Hostmaker  2016-09-20           849994.0  2016-12-03   \n",
      "23261         Hostmaker  2016-09-20           849994.0  2016-12-03   \n",
      "23262         Hostmaker  2017-11-07         11302995.0  2018-12-03   \n",
      "23263             âcasă  2018-06-20          3286339.0  2018-07-19   \n",
      "\n",
      "              Investor name  number_of_shares  percent_total Current stage  \\\n",
      "0            _ANGEL CO FUND          174939.0          5.681        Exited   \n",
      "1            HARVARD_PALMER           87469.0          2.841        Exited   \n",
      "2           MANVINDER_BANGA           35582.0          1.156        Exited   \n",
      "3            EDWARD_WALLACE           25362.0          0.044        Exited   \n",
      "4            NIGEL_JOHNSTON           28500.0          0.014        Exited   \n",
      "...                     ...               ...            ...           ...   \n",
      "23259           BRIGHT_PARK             600.0          0.285          Dead   \n",
      "23260         BRETT_HALFORD             400.0          0.190          Dead   \n",
      "23261        BALWANT_SHARMA            1000.0          0.476          Dead   \n",
      "23262  ARTHIT_SURIYABHIVADH            5000.0          1.036          Dead   \n",
      "23263      _SEEDCAMP III LP           64938.0          2.693          Dead   \n",
      "\n",
      "      Incorporation date   Exit date   Exit price  total_shares  round_shares  \\\n",
      "0             13/03/2013  2019-07-12   16000000.0  3.078815e+06  8.496028e+05   \n",
      "1             13/03/2013  2019-07-12   16000000.0  3.078815e+06  8.496028e+05   \n",
      "2             13/03/2013  2019-07-12   16000000.0  3.078815e+06  8.496028e+05   \n",
      "3             30/05/2002  2018-06-18   82296119.0  5.761983e+07 -1.057864e+08   \n",
      "4             23/07/1998  2018-09-20  263749447.1  2.030867e+08  1.387804e+07   \n",
      "...                  ...         ...          ...           ...           ...   \n",
      "23259         03/12/2013  2020-02-28          0.0  2.101727e+05  2.101727e+05   \n",
      "23260         03/12/2013  2020-02-28          0.0  2.101727e+05  2.101727e+05   \n",
      "23261         03/12/2013  2020-02-28          0.0  2.101727e+05  2.101727e+05   \n",
      "23262         03/12/2013  2020-02-28          0.0  4.823625e+05  1.401750e+05   \n",
      "23263         19/07/2013  2020-03-18          0.0  2.411363e+06  7.823786e+05   \n",
      "\n",
      "        exit_shares  rounds  add_shares        paid_in    total_value  \\\n",
      "0      5.081639e+06       3     47540.0    2368.934486  550811.255388   \n",
      "1      5.081639e+06       3     23770.0    1184.467243  275404.053399   \n",
      "2      5.081639e+06       3     10102.0     503.386121  112033.143491   \n",
      "3      6.461138e+07       3    -13658.0     167.841967   32303.814613   \n",
      "4      2.039527e+08       3     25000.0     209.885581   36855.888592   \n",
      "...             ...     ...         ...            ...            ...   \n",
      "23259  4.823625e+05       3         NaN    2426.558214       0.000000   \n",
      "23260  4.823625e+05       3         NaN    1617.705476       0.000000   \n",
      "23261  4.823625e+05       3         NaN    4044.263689       0.000000   \n",
      "23262  4.823625e+05       3         NaN  403174.351603       0.000000   \n",
      "23263  2.597520e+06       3         NaN  272768.564154       0.000000   \n",
      "\n",
      "             TVPI  follow  \n",
      "0      232.514347       1  \n",
      "1      232.513018       1  \n",
      "2      222.559063       1  \n",
      "3      192.465658       1  \n",
      "4      175.599907       1  \n",
      "...           ...     ...  \n",
      "23259    0.000000       0  \n",
      "23260    0.000000       0  \n",
      "23261    0.000000       0  \n",
      "23262    0.000000       0  \n",
      "23263    0.000000       0  \n",
      "\n",
      "[27856 rows x 20 columns]\n"
     ]
    }
   ],
   "source": [
    "# train.round(2)\n",
    "# ddf = train['value_change'].values.tolist()\n",
    "# print(np.isnan(ddf).all())\n",
    "\n",
    "# train_balanced = pd.concat([always_balanced,never_balanced])\n",
    "# train_balanced.info()\n",
    "print(train)"
   ]
  },
  {
   "cell_type": "code",
   "execution_count": 18,
   "metadata": {},
   "outputs": [
    {
     "name": "stdout",
     "output_type": "stream",
     "text": [
      "(array([12.0963148 ,  1.57693468,  6.61616607, 50.8680803 , 16.48911243]), array([5.06173835e-04, 2.09215870e-01, 1.01120939e-02, 1.01789490e-12,\n",
      "       4.90964610e-05]))\n"
     ]
    },
    {
     "name": "stderr",
     "output_type": "stream",
     "text": [
      "C:\\Users\\asus\\Anaconda3\\envs\\mlp\\lib\\site-packages\\sklearn\\utils\\validation.py:63: DataConversionWarning: A column-vector y was passed when a 1d array was expected. Please change the shape of y to (n_samples, ), for example using ravel().\n",
      "  return f(*args, **kwargs)\n"
     ]
    }
   ],
   "source": [
    "X_filter = np.array(values.loc[:,['value_change','Investment amount','percent_total','rounds','follow']])\n",
    "Y_filter = np.array(values['TVPI']).reshape(-1, 1)\n",
    "\n",
    "print(f_regression(X_filter, Y_filter, center=True))"
   ]
  },
  {
   "cell_type": "code",
   "execution_count": 21,
   "metadata": {},
   "outputs": [
    {
     "name": "stderr",
     "output_type": "stream",
     "text": [
      "C:\\Users\\asus\\Anaconda3\\envs\\mlp\\lib\\site-packages\\sklearn\\utils\\validation.py:63: DataConversionWarning: A column-vector y was passed when a 1d array was expected. Please change the shape of y to (n_samples, ), for example using ravel().\n",
      "  return f(*args, **kwargs)\n"
     ]
    }
   ],
   "source": [
    "X = np.array(values.loc[:,['value_change','follow']])\n",
    "Y = np.array(values['TVPI']).reshape(-1, 1)\n",
    "x_train,x_test,y_train,y_test=train_test_split(X,Y,test_size=0.25,random_state=44) #total 4540 samples\n",
    "\n",
    "# svr_lr = SVR(kernel='linear', gamma='scale')\n",
    "# svr_lr.fit(x_train, y_train)\n",
    "# y_lr = svr_lr.predict(x_test)\n",
    "\n",
    "svr_poly = SVR(kernel='poly', gamma='scale')\n",
    "svr_poly.fit(x_train, y_train)\n",
    "y_poly = svr_poly.predict(x_test)\n",
    "\n",
    "# svr_rbf = SVR(kernel='rbf', gamma='scale')\n",
    "# svr_rbf.fit(x_train, y_train)\n",
    "# y_rbf = svr_rbf.predict(x_test)"
   ]
  },
  {
   "cell_type": "code",
   "execution_count": null,
   "metadata": {},
   "outputs": [],
   "source": [
    "# kernel = DotProduct() + WhiteKernel()\n",
    "# gpr = GaussianProcessRegressor(kernel=kernel,random_state=0).fit(x_train,y_train)"
   ]
  },
  {
   "cell_type": "code",
   "execution_count": null,
   "metadata": {},
   "outputs": [],
   "source": [
    "# print(gpr.score(x_train,y_train))\n",
    "# y_pred_gpr = gpr.predict(x_test)"
   ]
  },
  {
   "cell_type": "code",
   "execution_count": null,
   "metadata": {},
   "outputs": [],
   "source": [
    "# plt.figure(figsize=(10,5))\n",
    "# plt.scatter(x_test,y_test,marker='.',color='brown',label='test')\n",
    "# plt.plot(x_test,y_pred,marker='s',color='navy',label='pred')\n",
    "# plt.title(\"TVPI of Different Valuation Changes\")\n",
    "# plt.show()"
   ]
  },
  {
   "cell_type": "code",
   "execution_count": 31,
   "metadata": {},
   "outputs": [
    {
     "name": "stdout",
     "output_type": "stream",
     "text": [
      "1.9302781683068255\n"
     ]
    }
   ],
   "source": [
    "print((np.array(y_test) - np.array(y_poly)).mean()) #残差均值不为0"
   ]
  },
  {
   "cell_type": "code",
   "execution_count": 103,
   "metadata": {},
   "outputs": [
    {
     "name": "stdout",
     "output_type": "stream",
     "text": [
      "The mean squared error of Poly SVR is 246.1904746314782\n",
      "The mean absolute error of Poly SVR is 2.1140132920880883\n",
      "The explained variance score of Poly SVR is 5.968316826199249e-06\n",
      "R-squared value of Poly SVR is 1.0\n",
      "The adjusted R-squared value of Poly SVR is 1.0\n"
     ]
    }
   ],
   "source": [
    "# print('The mean squared error of Linear SVR is', mean_squared_error(y_test, y_lr))\n",
    "print('The mean squared error of Poly SVR is', mean_squared_error(y_test, y_poly))\n",
    "# print('The mean squared error of RBF SVR is', mean_squared_error(y_test, y_rbf))\n",
    "# print('The mean absolute error of Linear SVR is', mean_absolute_error(y_test, y_lr))\n",
    "print('The mean absolute error of Poly SVR is', mean_absolute_error(y_test, y_poly))\n",
    "# print('The mean absolute error of RBF SVR is', mean_absolute_error(y_test, y_rbf))\n",
    "# print('The explained variance score of Linear SVR is', explained_variance_score(y_test, y_lr))\n",
    "print('The explained variance score of Poly SVR is', explained_variance_score(y_test, y_poly))\n",
    "# print('The explained variance score of RBF SVR is', explained_variance_score(y_test, y_rbf))\n",
    "# print('R-squared value of Linear SVR is', svr_lr.score(x_test,y_lr))\n",
    "print('R-squared value of Poly SVR is', svr_poly.score(x_test,y_poly))\n",
    "# print('R-squared value of RBF SVR is', svr_rbf.score(x_test,y_rbf))\n",
    "r2_score = svr_poly.score(x_test,y_poly)\n",
    "n = 27856\n",
    "p = 2\n",
    "r2_adjusted = 1-((1-r2_score)*(n-1))/(n-p-1)\n",
    "print('The adjusted R-squared value of Poly SVR is', r2_adjusted)"
   ]
  },
  {
   "cell_type": "code",
   "execution_count": 38,
   "metadata": {},
   "outputs": [
    {
     "data": {
      "image/png": "[encoded data removed]",
      "text/plain": [
       "<Figure size 405.725x360 with 1 Axes>"
      ]
     },
     "metadata": {},
     "output_type": "display_data"
    }
   ],
   "source": [
    "visual = values.loc[:,['value_change','follow','TVPI']]\n",
    "visual['value_change'] = visual['value_change'].astype('float') \n",
    "sns.set_theme(color_codes=True)\n",
    "# tips = sns.load_dataset(\"tips\")\n",
    "sns.lmplot(x=\"value_change\", y=\"TVPI\", hue=\"follow\", order=3,data=visual,markers=[\"o\", \"x\"]);"
   ]
  },
  {
   "cell_type": "code",
   "execution_count": 43,
   "metadata": {},
   "outputs": [
    {
     "data": {
      "text/html": [
       "<div>\n",
       "<style scoped>\n",
       "    .dataframe tbody tr th:only-of-type {\n",
       "        vertical-align: middle;\n",
       "    }\n",
       "\n",
       "    .dataframe tbody tr th {\n",
       "        vertical-align: top;\n",
       "    }\n",
       "\n",
       "    .dataframe thead th {\n",
       "        text-align: right;\n",
       "    }\n",
       "</style>\n",
       "<table border=\"1\" class=\"dataframe\">\n",
       "  <thead>\n",
       "    <tr style=\"text-align: right;\">\n",
       "      <th></th>\n",
       "      <th>Valuation changes</th>\n",
       "    </tr>\n",
       "  </thead>\n",
       "  <tbody>\n",
       "    <tr>\n",
       "      <th>mean vc</th>\n",
       "      <td>1.411702</td>\n",
       "    </tr>\n",
       "    <tr>\n",
       "      <th>vc≤0.5</th>\n",
       "      <td>5240.000000</td>\n",
       "    </tr>\n",
       "    <tr>\n",
       "      <th>0.5＜vc≤0.75</th>\n",
       "      <td>336.000000</td>\n",
       "    </tr>\n",
       "    <tr>\n",
       "      <th>0.75＜vc≤1</th>\n",
       "      <td>14171.000000</td>\n",
       "    </tr>\n",
       "    <tr>\n",
       "      <th>1＜vc≤1.5</th>\n",
       "      <td>558.000000</td>\n",
       "    </tr>\n",
       "    <tr>\n",
       "      <th>1＜vc≤2</th>\n",
       "      <td>223.000000</td>\n",
       "    </tr>\n",
       "    <tr>\n",
       "      <th>2＜vc≤5</th>\n",
       "      <td>839.000000</td>\n",
       "    </tr>\n",
       "    <tr>\n",
       "      <th>5＜vc≤10</th>\n",
       "      <td>405.000000</td>\n",
       "    </tr>\n",
       "    <tr>\n",
       "      <th>10＜vc</th>\n",
       "      <td>645.000000</td>\n",
       "    </tr>\n",
       "  </tbody>\n",
       "</table>\n",
       "</div>"
      ],
      "text/plain": [
       "             Valuation changes\n",
       "mean vc               1.411702\n",
       "vc≤0.5             5240.000000\n",
       "0.5＜vc≤0.75         336.000000\n",
       "0.75＜vc≤1         14171.000000\n",
       "1＜vc≤1.5            558.000000\n",
       "1＜vc≤2              223.000000\n",
       "2＜vc≤5              839.000000\n",
       "5＜vc≤10             405.000000\n",
       "10＜vc               645.000000"
      ]
     },
     "execution_count": 43,
     "metadata": {},
     "output_type": "execute_result"
    }
   ],
   "source": [
    "vc_mean = np.mean(values['value_change'].values.tolist())\n",
    "vc_0_5 = values.loc[(values['value_change']<=0.5)].shape[0]\n",
    "vc_0_75 = values.loc[(values['value_change']>0.5)&(values['value_change']<=0.75)].shape[0]\n",
    "vc_1 = values.loc[(values['value_change']>0.75)&(values['value_change']<=1)].shape[0]\n",
    "vc_1_5 = values.loc[(values['value_change']>1)&(values['value_change']<=1.5)].shape[0]\n",
    "vc_2 = values.loc[(values['value_change']>1.5)&(values['value_change']<=2)].shape[0]\n",
    "vc_5 = values.loc[(values['value_change']>2)&(values['value_change']<=5)].shape[0]\n",
    "vc_10 = values.loc[(values['value_change']>5)&(values['value_change']<=10)].shape[0]\n",
    "vc_11= values.loc[(values['value_change']>10)].shape[0]\n",
    "data2 = {'Valuation changes':[vc_mean,vc_0_5,vc_0_75,vc_1,vc_1_5,vc_2,vc_5,vc_10,vc_11]}\n",
    "count_vc = pd.DataFrame(data2,index=['mean vc','vc≤0.5','0.5＜vc≤0.75','0.75＜vc≤1','1＜vc≤1.5','1＜vc≤2','2＜vc≤5','5＜vc≤10','10＜vc'])\n",
    "count_vc\n",
    "# vc_1 = values.loc[(values['value_change']<1)].shape[0]"
   ]
  },
  {
   "cell_type": "code",
   "execution_count": 112,
   "metadata": {
    "scrolled": true
   },
   "outputs": [
    {
     "name": "stderr",
     "output_type": "stream",
     "text": [
      "<ipython-input-112-ee365493e9ac>:4: SettingWithCopyWarning: \n",
      "A value is trying to be set on a copy of a slice from a DataFrame.\n",
      "Try using .loc[row_indexer,col_indexer] = value instead\n",
      "\n",
      "See the caveats in the documentation: https://pandas.pydata.org/pandas-docs/stable/user_guide/indexing.html#returning-a-view-versus-a-copy\n",
      "  ts_0_5_0['follow'] = 0\n",
      "<ipython-input-112-ee365493e9ac>:5: SettingWithCopyWarning: \n",
      "A value is trying to be set on a copy of a slice from a DataFrame.\n",
      "Try using .loc[row_indexer,col_indexer] = value instead\n",
      "\n",
      "See the caveats in the documentation: https://pandas.pydata.org/pandas-docs/stable/user_guide/indexing.html#returning-a-view-versus-a-copy\n",
      "  ts_0_5_0['TVPI'] = svr_poly.predict(np.array(ts_0_5_0.loc[:,['value_change','follow']]))*10\n",
      "<ipython-input-112-ee365493e9ac>:8: SettingWithCopyWarning: \n",
      "A value is trying to be set on a copy of a slice from a DataFrame.\n",
      "Try using .loc[row_indexer,col_indexer] = value instead\n",
      "\n",
      "See the caveats in the documentation: https://pandas.pydata.org/pandas-docs/stable/user_guide/indexing.html#returning-a-view-versus-a-copy\n",
      "  ts_0_5_1['follow'] = 1\n",
      "<ipython-input-112-ee365493e9ac>:9: SettingWithCopyWarning: \n",
      "A value is trying to be set on a copy of a slice from a DataFrame.\n",
      "Try using .loc[row_indexer,col_indexer] = value instead\n",
      "\n",
      "See the caveats in the documentation: https://pandas.pydata.org/pandas-docs/stable/user_guide/indexing.html#returning-a-view-versus-a-copy\n",
      "  ts_0_5_1['TVPI'] = svr_poly.predict(np.array(ts_0_5_1.loc[:,['value_change','follow']]))*10\n",
      "<ipython-input-112-ee365493e9ac>:13: SettingWithCopyWarning: \n",
      "A value is trying to be set on a copy of a slice from a DataFrame.\n",
      "Try using .loc[row_indexer,col_indexer] = value instead\n",
      "\n",
      "See the caveats in the documentation: https://pandas.pydata.org/pandas-docs/stable/user_guide/indexing.html#returning-a-view-versus-a-copy\n",
      "  ts_0_75_0['follow'] = 0\n",
      "<ipython-input-112-ee365493e9ac>:14: SettingWithCopyWarning: \n",
      "A value is trying to be set on a copy of a slice from a DataFrame.\n",
      "Try using .loc[row_indexer,col_indexer] = value instead\n",
      "\n",
      "See the caveats in the documentation: https://pandas.pydata.org/pandas-docs/stable/user_guide/indexing.html#returning-a-view-versus-a-copy\n",
      "  ts_0_75_0['TVPI'] = svr_poly.predict(np.array(ts_0_75_0.loc[:,['value_change','follow']]))*10\n",
      "<ipython-input-112-ee365493e9ac>:17: SettingWithCopyWarning: \n",
      "A value is trying to be set on a copy of a slice from a DataFrame.\n",
      "Try using .loc[row_indexer,col_indexer] = value instead\n",
      "\n",
      "See the caveats in the documentation: https://pandas.pydata.org/pandas-docs/stable/user_guide/indexing.html#returning-a-view-versus-a-copy\n",
      "  ts_0_75_1['follow'] = 1\n",
      "<ipython-input-112-ee365493e9ac>:18: SettingWithCopyWarning: \n",
      "A value is trying to be set on a copy of a slice from a DataFrame.\n",
      "Try using .loc[row_indexer,col_indexer] = value instead\n",
      "\n",
      "See the caveats in the documentation: https://pandas.pydata.org/pandas-docs/stable/user_guide/indexing.html#returning-a-view-versus-a-copy\n",
      "  ts_0_75_1['TVPI'] = svr_poly.predict(np.array(ts_0_75_1.loc[:,['value_change','follow']]))*10\n",
      "<ipython-input-112-ee365493e9ac>:22: SettingWithCopyWarning: \n",
      "A value is trying to be set on a copy of a slice from a DataFrame.\n",
      "Try using .loc[row_indexer,col_indexer] = value instead\n",
      "\n",
      "See the caveats in the documentation: https://pandas.pydata.org/pandas-docs/stable/user_guide/indexing.html#returning-a-view-versus-a-copy\n",
      "  ts_1_0['follow'] = 0\n",
      "<ipython-input-112-ee365493e9ac>:23: SettingWithCopyWarning: \n",
      "A value is trying to be set on a copy of a slice from a DataFrame.\n",
      "Try using .loc[row_indexer,col_indexer] = value instead\n",
      "\n",
      "See the caveats in the documentation: https://pandas.pydata.org/pandas-docs/stable/user_guide/indexing.html#returning-a-view-versus-a-copy\n",
      "  ts_1_0['TVPI'] = svr_poly.predict(np.array(ts_1_0.loc[:,['value_change','follow']]))*10\n",
      "<ipython-input-112-ee365493e9ac>:26: SettingWithCopyWarning: \n",
      "A value is trying to be set on a copy of a slice from a DataFrame.\n",
      "Try using .loc[row_indexer,col_indexer] = value instead\n",
      "\n",
      "See the caveats in the documentation: https://pandas.pydata.org/pandas-docs/stable/user_guide/indexing.html#returning-a-view-versus-a-copy\n",
      "  ts_1_1['follow'] = 1\n",
      "<ipython-input-112-ee365493e9ac>:27: SettingWithCopyWarning: \n",
      "A value is trying to be set on a copy of a slice from a DataFrame.\n",
      "Try using .loc[row_indexer,col_indexer] = value instead\n",
      "\n",
      "See the caveats in the documentation: https://pandas.pydata.org/pandas-docs/stable/user_guide/indexing.html#returning-a-view-versus-a-copy\n",
      "  ts_1_1['TVPI'] = svr_poly.predict(np.array(ts_1_1.loc[:,['value_change','follow']]))*10\n",
      "<ipython-input-112-ee365493e9ac>:31: SettingWithCopyWarning: \n",
      "A value is trying to be set on a copy of a slice from a DataFrame.\n",
      "Try using .loc[row_indexer,col_indexer] = value instead\n",
      "\n",
      "See the caveats in the documentation: https://pandas.pydata.org/pandas-docs/stable/user_guide/indexing.html#returning-a-view-versus-a-copy\n",
      "  ts_1_5_0['follow'] = 0\n",
      "<ipython-input-112-ee365493e9ac>:32: SettingWithCopyWarning: \n",
      "A value is trying to be set on a copy of a slice from a DataFrame.\n",
      "Try using .loc[row_indexer,col_indexer] = value instead\n",
      "\n",
      "See the caveats in the documentation: https://pandas.pydata.org/pandas-docs/stable/user_guide/indexing.html#returning-a-view-versus-a-copy\n",
      "  ts_1_5_0['TVPI'] = svr_poly.predict(np.array(ts_1_5_0.loc[:,['value_change','follow']]))*10\n",
      "<ipython-input-112-ee365493e9ac>:35: SettingWithCopyWarning: \n",
      "A value is trying to be set on a copy of a slice from a DataFrame.\n",
      "Try using .loc[row_indexer,col_indexer] = value instead\n",
      "\n",
      "See the caveats in the documentation: https://pandas.pydata.org/pandas-docs/stable/user_guide/indexing.html#returning-a-view-versus-a-copy\n",
      "  ts_1_5_1['follow'] = 1\n",
      "<ipython-input-112-ee365493e9ac>:36: SettingWithCopyWarning: \n",
      "A value is trying to be set on a copy of a slice from a DataFrame.\n",
      "Try using .loc[row_indexer,col_indexer] = value instead\n",
      "\n",
      "See the caveats in the documentation: https://pandas.pydata.org/pandas-docs/stable/user_guide/indexing.html#returning-a-view-versus-a-copy\n",
      "  ts_1_5_1['TVPI'] = svr_poly.predict(np.array(ts_1_5_1.loc[:,['value_change','follow']]))*10\n",
      "<ipython-input-112-ee365493e9ac>:40: SettingWithCopyWarning: \n",
      "A value is trying to be set on a copy of a slice from a DataFrame.\n",
      "Try using .loc[row_indexer,col_indexer] = value instead\n",
      "\n",
      "See the caveats in the documentation: https://pandas.pydata.org/pandas-docs/stable/user_guide/indexing.html#returning-a-view-versus-a-copy\n",
      "  ts_2_0['follow'] = 0\n",
      "<ipython-input-112-ee365493e9ac>:41: SettingWithCopyWarning: \n",
      "A value is trying to be set on a copy of a slice from a DataFrame.\n",
      "Try using .loc[row_indexer,col_indexer] = value instead\n",
      "\n",
      "See the caveats in the documentation: https://pandas.pydata.org/pandas-docs/stable/user_guide/indexing.html#returning-a-view-versus-a-copy\n",
      "  ts_2_0['TVPI'] = svr_poly.predict(np.array(ts_2_0.loc[:,['value_change','follow']]))*10\n",
      "<ipython-input-112-ee365493e9ac>:44: SettingWithCopyWarning: \n",
      "A value is trying to be set on a copy of a slice from a DataFrame.\n",
      "Try using .loc[row_indexer,col_indexer] = value instead\n",
      "\n",
      "See the caveats in the documentation: https://pandas.pydata.org/pandas-docs/stable/user_guide/indexing.html#returning-a-view-versus-a-copy\n",
      "  ts_2_1['follow'] = 1\n",
      "<ipython-input-112-ee365493e9ac>:45: SettingWithCopyWarning: \n",
      "A value is trying to be set on a copy of a slice from a DataFrame.\n",
      "Try using .loc[row_indexer,col_indexer] = value instead\n",
      "\n",
      "See the caveats in the documentation: https://pandas.pydata.org/pandas-docs/stable/user_guide/indexing.html#returning-a-view-versus-a-copy\n",
      "  ts_2_1['TVPI'] = svr_poly.predict(np.array(ts_2_1.loc[:,['value_change','follow']]))*10\n",
      "<ipython-input-112-ee365493e9ac>:49: SettingWithCopyWarning: \n",
      "A value is trying to be set on a copy of a slice from a DataFrame.\n",
      "Try using .loc[row_indexer,col_indexer] = value instead\n",
      "\n",
      "See the caveats in the documentation: https://pandas.pydata.org/pandas-docs/stable/user_guide/indexing.html#returning-a-view-versus-a-copy\n",
      "  ts_5_0['follow'] = 0\n",
      "<ipython-input-112-ee365493e9ac>:50: SettingWithCopyWarning: \n",
      "A value is trying to be set on a copy of a slice from a DataFrame.\n",
      "Try using .loc[row_indexer,col_indexer] = value instead\n",
      "\n",
      "See the caveats in the documentation: https://pandas.pydata.org/pandas-docs/stable/user_guide/indexing.html#returning-a-view-versus-a-copy\n",
      "  ts_5_0['TVPI'] = svr_poly.predict(np.array(ts_5_0.loc[:,['value_change','follow']]))*10\n",
      "<ipython-input-112-ee365493e9ac>:53: SettingWithCopyWarning: \n",
      "A value is trying to be set on a copy of a slice from a DataFrame.\n",
      "Try using .loc[row_indexer,col_indexer] = value instead\n",
      "\n",
      "See the caveats in the documentation: https://pandas.pydata.org/pandas-docs/stable/user_guide/indexing.html#returning-a-view-versus-a-copy\n",
      "  ts_5_1['follow'] = 1\n"
     ]
    },
    {
     "name": "stderr",
     "output_type": "stream",
     "text": [
      "<ipython-input-112-ee365493e9ac>:54: SettingWithCopyWarning: \n",
      "A value is trying to be set on a copy of a slice from a DataFrame.\n",
      "Try using .loc[row_indexer,col_indexer] = value instead\n",
      "\n",
      "See the caveats in the documentation: https://pandas.pydata.org/pandas-docs/stable/user_guide/indexing.html#returning-a-view-versus-a-copy\n",
      "  ts_5_1['TVPI'] = svr_poly.predict(np.array(ts_5_1.loc[:,['value_change','follow']]))*10\n",
      "<ipython-input-112-ee365493e9ac>:58: SettingWithCopyWarning: \n",
      "A value is trying to be set on a copy of a slice from a DataFrame.\n",
      "Try using .loc[row_indexer,col_indexer] = value instead\n",
      "\n",
      "See the caveats in the documentation: https://pandas.pydata.org/pandas-docs/stable/user_guide/indexing.html#returning-a-view-versus-a-copy\n",
      "  ts_10_0['follow'] = 0\n",
      "<ipython-input-112-ee365493e9ac>:59: SettingWithCopyWarning: \n",
      "A value is trying to be set on a copy of a slice from a DataFrame.\n",
      "Try using .loc[row_indexer,col_indexer] = value instead\n",
      "\n",
      "See the caveats in the documentation: https://pandas.pydata.org/pandas-docs/stable/user_guide/indexing.html#returning-a-view-versus-a-copy\n",
      "  ts_10_0['TVPI'] = svr_poly.predict(np.array(ts_10_0.loc[:,['value_change','follow']]))*10\n",
      "<ipython-input-112-ee365493e9ac>:62: SettingWithCopyWarning: \n",
      "A value is trying to be set on a copy of a slice from a DataFrame.\n",
      "Try using .loc[row_indexer,col_indexer] = value instead\n",
      "\n",
      "See the caveats in the documentation: https://pandas.pydata.org/pandas-docs/stable/user_guide/indexing.html#returning-a-view-versus-a-copy\n",
      "  ts_10_1['follow'] = 1\n",
      "<ipython-input-112-ee365493e9ac>:63: SettingWithCopyWarning: \n",
      "A value is trying to be set on a copy of a slice from a DataFrame.\n",
      "Try using .loc[row_indexer,col_indexer] = value instead\n",
      "\n",
      "See the caveats in the documentation: https://pandas.pydata.org/pandas-docs/stable/user_guide/indexing.html#returning-a-view-versus-a-copy\n",
      "  ts_10_1['TVPI'] = svr_poly.predict(np.array(ts_10_1.loc[:,['value_change','follow']]))*10\n",
      "<ipython-input-112-ee365493e9ac>:67: SettingWithCopyWarning: \n",
      "A value is trying to be set on a copy of a slice from a DataFrame.\n",
      "Try using .loc[row_indexer,col_indexer] = value instead\n",
      "\n",
      "See the caveats in the documentation: https://pandas.pydata.org/pandas-docs/stable/user_guide/indexing.html#returning-a-view-versus-a-copy\n",
      "  ts_11_0['follow'] = 0\n",
      "<ipython-input-112-ee365493e9ac>:68: SettingWithCopyWarning: \n",
      "A value is trying to be set on a copy of a slice from a DataFrame.\n",
      "Try using .loc[row_indexer,col_indexer] = value instead\n",
      "\n",
      "See the caveats in the documentation: https://pandas.pydata.org/pandas-docs/stable/user_guide/indexing.html#returning-a-view-versus-a-copy\n",
      "  ts_11_0['TVPI'] = svr_poly.predict(np.array(ts_11_0.loc[:,['value_change','follow']]))*10\n",
      "<ipython-input-112-ee365493e9ac>:71: SettingWithCopyWarning: \n",
      "A value is trying to be set on a copy of a slice from a DataFrame.\n",
      "Try using .loc[row_indexer,col_indexer] = value instead\n",
      "\n",
      "See the caveats in the documentation: https://pandas.pydata.org/pandas-docs/stable/user_guide/indexing.html#returning-a-view-versus-a-copy\n",
      "  ts_11_1['follow'] = 1\n",
      "<ipython-input-112-ee365493e9ac>:72: SettingWithCopyWarning: \n",
      "A value is trying to be set on a copy of a slice from a DataFrame.\n",
      "Try using .loc[row_indexer,col_indexer] = value instead\n",
      "\n",
      "See the caveats in the documentation: https://pandas.pydata.org/pandas-docs/stable/user_guide/indexing.html#returning-a-view-versus-a-copy\n",
      "  ts_11_1['TVPI'] = svr_poly.predict(np.array(ts_11_1.loc[:,['value_change','follow']]))*10\n"
     ]
    }
   ],
   "source": [
    "ts = values.loc[:,['value_change','follow']]\n",
    "\n",
    "ts_0_5_0 = ts.loc[(values['value_change']<=0.5)]\n",
    "ts_0_5_0['follow'] = 0\n",
    "ts_0_5_0['TVPI'] = svr_poly.predict(np.array(ts_0_5_0.loc[:,['value_change','follow']]))*10\n",
    "ts_0_5_0_mean = np.array(ts_0_5_0['TVPI']).mean()\n",
    "ts_0_5_1 = ts.loc[(values['value_change']<=0.5)]\n",
    "ts_0_5_1['follow'] = 1\n",
    "ts_0_5_1['TVPI'] = svr_poly.predict(np.array(ts_0_5_1.loc[:,['value_change','follow']]))*10\n",
    "ts_0_5_1_mean = np.array(ts_0_5_1['TVPI']).mean()\n",
    "\n",
    "ts_0_75_0 = ts.loc[(values['value_change']>0.5)&(values['value_change']<=0.75)]\n",
    "ts_0_75_0['follow'] = 0\n",
    "ts_0_75_0['TVPI'] = svr_poly.predict(np.array(ts_0_75_0.loc[:,['value_change','follow']]))*10\n",
    "ts_0_75_0_mean = np.array(ts_0_75_0['TVPI']).mean()\n",
    "ts_0_75_1 = ts.loc[(values['value_change']>0.5)&(values['value_change']<=0.75)]\n",
    "ts_0_75_1['follow'] = 1\n",
    "ts_0_75_1['TVPI'] = svr_poly.predict(np.array(ts_0_75_1.loc[:,['value_change','follow']]))*10\n",
    "ts_0_75_1_mean = np.array(ts_0_75_1['TVPI']).mean()\n",
    "\n",
    "ts_1_0 = ts.loc[(values['value_change']>0.75)&(values['value_change']<=1)]\n",
    "ts_1_0['follow'] = 0\n",
    "ts_1_0['TVPI'] = svr_poly.predict(np.array(ts_1_0.loc[:,['value_change','follow']]))*10\n",
    "ts_1_0_mean = np.array(ts_1_0['TVPI']).mean()\n",
    "ts_1_1 = ts.loc[(values['value_change']>0.75)&(values['value_change']<=1)]\n",
    "ts_1_1['follow'] = 1\n",
    "ts_1_1['TVPI'] = svr_poly.predict(np.array(ts_1_1.loc[:,['value_change','follow']]))*10\n",
    "ts_1_1_mean = np.array(ts_1_1['TVPI']).mean()\n",
    "\n",
    "ts_1_5_0 = ts.loc[(values['value_change']>1)&(values['value_change']<=1.5)]\n",
    "ts_1_5_0['follow'] = 0\n",
    "ts_1_5_0['TVPI'] = svr_poly.predict(np.array(ts_1_5_0.loc[:,['value_change','follow']]))*10\n",
    "ts_1_5_0_mean = np.array(ts_1_5_0['TVPI']).mean()\n",
    "ts_1_5_1 = ts.loc[(values['value_change']>1)&(values['value_change']<=1.5)]\n",
    "ts_1_5_1['follow'] = 1\n",
    "ts_1_5_1['TVPI'] = svr_poly.predict(np.array(ts_1_5_1.loc[:,['value_change','follow']]))*10\n",
    "ts_1_5_1_mean = np.array(ts_1_5_1['TVPI']).mean()\n",
    "\n",
    "ts_2_0 = ts.loc[(values['value_change']>1.5)&(values['value_change']<=2)]\n",
    "ts_2_0['follow'] = 0\n",
    "ts_2_0['TVPI'] = svr_poly.predict(np.array(ts_2_0.loc[:,['value_change','follow']]))*10\n",
    "ts_2_0_mean = np.array(ts_2_0['TVPI']).mean()\n",
    "ts_2_1 = ts.loc[(values['value_change']>1.5)&(values['value_change']<=2)]\n",
    "ts_2_1['follow'] = 1\n",
    "ts_2_1['TVPI'] = svr_poly.predict(np.array(ts_2_1.loc[:,['value_change','follow']]))*10\n",
    "ts_2_1_mean = np.array(ts_2_1['TVPI']).mean()\n",
    "\n",
    "ts_5_0 = ts.loc[(values['value_change']>2)&(values['value_change']<=5)]\n",
    "ts_5_0['follow'] = 0\n",
    "ts_5_0['TVPI'] = svr_poly.predict(np.array(ts_5_0.loc[:,['value_change','follow']]))*10\n",
    "ts_5_0_mean = np.array(ts_5_0['TVPI']).mean()\n",
    "ts_5_1 = ts.loc[(values['value_change']>2)&(values['value_change']<=5)]\n",
    "ts_5_1['follow'] = 1\n",
    "ts_5_1['TVPI'] = svr_poly.predict(np.array(ts_5_1.loc[:,['value_change','follow']]))*10\n",
    "ts_5_1_mean = np.array(ts_5_1['TVPI']).mean()\n",
    "\n",
    "ts_10_0 = ts.loc[(values['value_change']>5)&(values['value_change']<=10)]\n",
    "ts_10_0['follow'] = 0\n",
    "ts_10_0['TVPI'] = svr_poly.predict(np.array(ts_10_0.loc[:,['value_change','follow']]))*10\n",
    "ts_10_0_mean = np.array(ts_10_0['TVPI']).mean()\n",
    "ts_10_1 = ts.loc[(values['value_change']>5)&(values['value_change']<=10)]\n",
    "ts_10_1['follow'] = 1\n",
    "ts_10_1['TVPI'] = svr_poly.predict(np.array(ts_10_1.loc[:,['value_change','follow']]))*10\n",
    "ts_10_1_mean = np.array(ts_10_1['TVPI']).mean()\n",
    "\n",
    "ts_11_0 = ts.loc[(values['value_change']>10)]\n",
    "ts_11_0['follow'] = 0\n",
    "ts_11_0['TVPI'] = svr_poly.predict(np.array(ts_11_0.loc[:,['value_change','follow']]))*10\n",
    "ts_11_0_mean = np.array(ts_11_0['TVPI']).mean()\n",
    "ts_11_1 = ts.loc[(values['value_change']>10)]\n",
    "ts_11_1['follow'] = 1\n",
    "ts_11_1['TVPI'] = svr_poly.predict(np.array(ts_11_1.loc[:,['value_change','follow']]))*10\n",
    "ts_11_1_mean = np.array(ts_11_1['TVPI']).mean()"
   ]
  },
  {
   "cell_type": "code",
   "execution_count": 113,
   "metadata": {
    "scrolled": true
   },
   "outputs": [
    {
     "data": {
      "text/html": [
       "<div>\n",
       "<style scoped>\n",
       "    .dataframe tbody tr th:only-of-type {\n",
       "        vertical-align: middle;\n",
       "    }\n",
       "\n",
       "    .dataframe tbody tr th {\n",
       "        vertical-align: top;\n",
       "    }\n",
       "\n",
       "    .dataframe thead th {\n",
       "        text-align: right;\n",
       "    }\n",
       "</style>\n",
       "<table border=\"1\" class=\"dataframe\">\n",
       "  <thead>\n",
       "    <tr style=\"text-align: right;\">\n",
       "      <th></th>\n",
       "      <th>number of samples</th>\n",
       "      <th>mean Not-Follow TVPI</th>\n",
       "      <th>mean Follow TVPI</th>\n",
       "      <th>Better Follow-on Strategies</th>\n",
       "    </tr>\n",
       "  </thead>\n",
       "  <tbody>\n",
       "    <tr>\n",
       "      <th>mean vc=1.41</th>\n",
       "      <td>(total)27856</td>\n",
       "      <td>/</td>\n",
       "      <td>/</td>\n",
       "      <td>/</td>\n",
       "    </tr>\n",
       "    <tr>\n",
       "      <th>vc≤0.50</th>\n",
       "      <td>5240</td>\n",
       "      <td>1.000973</td>\n",
       "      <td>1.000979</td>\n",
       "      <td>Follow</td>\n",
       "    </tr>\n",
       "    <tr>\n",
       "      <th>0.50＜vc≤0.75</th>\n",
       "      <td>336</td>\n",
       "      <td>1.000966</td>\n",
       "      <td>1.000758</td>\n",
       "      <td>Not-Follow</td>\n",
       "    </tr>\n",
       "    <tr>\n",
       "      <th>0.75＜vc≤1.00</th>\n",
       "      <td>14171</td>\n",
       "      <td>1.000948</td>\n",
       "      <td>1.000635</td>\n",
       "      <td>Not-Follow</td>\n",
       "    </tr>\n",
       "    <tr>\n",
       "      <th>1.00＜vc≤1.50</th>\n",
       "      <td>558</td>\n",
       "      <td>1.000925</td>\n",
       "      <td>1.00056</td>\n",
       "      <td>Not-Follow</td>\n",
       "    </tr>\n",
       "    <tr>\n",
       "      <th>1.50＜vc≤2.00</th>\n",
       "      <td>223</td>\n",
       "      <td>1.000825</td>\n",
       "      <td>1.000366</td>\n",
       "      <td>Not-Follow</td>\n",
       "    </tr>\n",
       "    <tr>\n",
       "      <th>2.00＜vc≤5.00</th>\n",
       "      <td>839</td>\n",
       "      <td>1.000078</td>\n",
       "      <td>0.999663</td>\n",
       "      <td>Not-Follow</td>\n",
       "    </tr>\n",
       "    <tr>\n",
       "      <th>5.00＜vc≤10.00</th>\n",
       "      <td>405</td>\n",
       "      <td>0.990664</td>\n",
       "      <td>0.992267</td>\n",
       "      <td>Follow</td>\n",
       "    </tr>\n",
       "    <tr>\n",
       "      <th>10.00＜vc</th>\n",
       "      <td>645</td>\n",
       "      <td>0.871581</td>\n",
       "      <td>0.888779</td>\n",
       "      <td>Follow</td>\n",
       "    </tr>\n",
       "  </tbody>\n",
       "</table>\n",
       "</div>"
      ],
      "text/plain": [
       "              number of samples mean Not-Follow TVPI mean Follow TVPI  \\\n",
       "mean vc=1.41       (total)27856                    /                /   \n",
       "vc≤0.50                    5240             1.000973         1.000979   \n",
       "0.50＜vc≤0.75                336             1.000966         1.000758   \n",
       "0.75＜vc≤1.00              14171             1.000948         1.000635   \n",
       "1.00＜vc≤1.50                558             1.000925          1.00056   \n",
       "1.50＜vc≤2.00                223             1.000825         1.000366   \n",
       "2.00＜vc≤5.00                839             1.000078         0.999663   \n",
       "5.00＜vc≤10.00               405             0.990664         0.992267   \n",
       "10.00＜vc                    645             0.871581         0.888779   \n",
       "\n",
       "              Better Follow-on Strategies  \n",
       "mean vc=1.41                            /  \n",
       "vc≤0.50                            Follow  \n",
       "0.50＜vc≤0.75                   Not-Follow  \n",
       "0.75＜vc≤1.00                   Not-Follow  \n",
       "1.00＜vc≤1.50                   Not-Follow  \n",
       "1.50＜vc≤2.00                   Not-Follow  \n",
       "2.00＜vc≤5.00                   Not-Follow  \n",
       "5.00＜vc≤10.00                      Follow  \n",
       "10.00＜vc                           Follow  "
      ]
     },
     "execution_count": 113,
     "metadata": {},
     "output_type": "execute_result"
    }
   ],
   "source": [
    "data3 = {'number of samples':['(total)27856',vc_0_5,vc_0_75,vc_1,vc_1_5,vc_2,vc_5,vc_10,vc_11],\n",
    "         'mean Not-Follow TVPI':['/',ts_0_5_0_mean,ts_0_75_0_mean,ts_1_0_mean,ts_1_5_0_mean,ts_2_0_mean,ts_5_0_mean,ts_10_0_mean,ts_11_0_mean],\n",
    "         'mean Follow TVPI':['/',ts_0_5_1_mean,ts_0_75_1_mean,ts_1_1_mean,ts_1_5_1_mean,ts_2_1_mean,ts_5_1_mean,ts_10_1_mean,ts_11_1_mean],\n",
    "        'Better Follow-on Strategies':['/','Follow','Not-Follow','Not-Follow','Not-Follow','Not-Follow','Not-Follow','Follow','Follow']}\n",
    "count_vc2 = pd.DataFrame(data3,index=['mean vc=1.41','vc≤0.50','0.50＜vc≤0.75','0.75＜vc≤1.00','1.00＜vc≤1.50','1.50＜vc≤2.00','2.00＜vc≤5.00','5.00＜vc≤10.00','10.00＜vc'])\n",
    "count_vc2"
   ]
  },
  {
   "cell_type": "code",
   "execution_count": 114,
   "metadata": {},
   "outputs": [
    {
     "data": {
      "image/png": "[encoded data removed]",
      "text/plain": [
       "<Figure size 720x360 with 1 Axes>"
      ]
     },
     "metadata": {},
     "output_type": "display_data"
    }
   ],
   "source": [
    "plt.figure(figsize=(10,5))\n",
    "x = np.log10([0.25,0.625,0.875,1.25,1.75,3.5,7.5,20])\n",
    "y1 = [ts_0_5_0_mean,ts_0_75_0_mean,ts_1_0_mean,ts_1_5_0_mean,ts_2_0_mean,ts_5_0_mean,ts_10_0_mean,ts_11_0_mean]\n",
    "y2 = [ts_0_5_1_mean,ts_0_75_1_mean,ts_1_1_mean,ts_1_5_1_mean,ts_2_1_mean,ts_5_1_mean,ts_10_1_mean,ts_11_1_mean]\n",
    "plt.scatter(x,y1,marker='o',label='not-follow')\n",
    "plt.plot(x,y1)\n",
    "plt.scatter(x,y2,marker='x',label='follow')\n",
    "plt.plot(x,y2)\n",
    "plt.xlabel('valuation changes(X)')\n",
    "plt.ylabel('Mean TVPI(X)')\n",
    "plt.xscale('log')\n",
    "plt.legend()\n",
    "plt.title(\"Mean TVPI of Different Valuation Changes\")\n",
    "plt.show()"
   ]
  },
  {
   "cell_type": "code",
   "execution_count": 115,
   "metadata": {},
   "outputs": [
    {
     "data": {
      "image/png": "[encoded data removed]",
      "text/plain": [
       "<Figure size 405.725x360 with 1 Axes>"
      ]
     },
     "metadata": {},
     "output_type": "display_data"
    }
   ],
   "source": [
    "ts0 = pd.concat([ts_0_5_0,ts_0_75_0,ts_1_0,ts_1_5_0,ts_2_0,ts_5_0,ts_10_0,ts_11_0])\n",
    "ts1 = pd.concat([ts_0_5_1,ts_0_75_1,ts_1_1,ts_1_5_1,ts_2_1,ts_5_1,ts_10_1,ts_11_1])\n",
    "ts_visual = pd.concat([ts0,ts1])\n",
    "ts_visual['value_change'] = ts_visual['value_change'].astype('float') \n",
    "sns.set_theme(color_codes=True)\n",
    "sns.lmplot(x=\"value_change\", y=\"TVPI\", hue=\"follow\", order=2,data=ts_visual,markers=[\".\", \".\"],ci=95);"
   ]
  },
  {
   "cell_type": "code",
   "execution_count": null,
   "metadata": {},
   "outputs": [],
   "source": []
  }
 ],
 "metadata": {
  "kernelspec": {
   "display_name": "Python 3",
   "language": "python",
   "name": "python3"
  },
  "language_info": {
   "codemirror_mode": {
    "name": "ipython",
    "version": 3
   },
   "file_extension": ".py",
   "mimetype": "text/x-python",
   "name": "python",
   "nbconvert_exporter": "python",
   "pygments_lexer": "ipython3",
   "version": "3.8.5"
  }
 },
 "nbformat": 4,
 "nbformat_minor": 4
}
