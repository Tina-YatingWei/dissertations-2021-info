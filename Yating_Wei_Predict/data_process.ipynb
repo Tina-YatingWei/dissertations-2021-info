{
 "cells": [
  {
   "cell_type": "code",
   "execution_count": 1,
   "metadata": {},
   "outputs": [],
   "source": [
    "import pandas as pd\n",
    "import numpy as np"
   ]
  },
  {
   "cell_type": "markdown",
   "metadata": {},
   "source": [
    "## import and process deals.csv"
   ]
  },
  {
   "cell_type": "code",
   "execution_count": 2,
   "metadata": {},
   "outputs": [
    {
     "name": "stdout",
     "output_type": "stream",
     "text": [
      "                   Deal date  Investment amount\n",
      "Company name                                   \n",
      "10 Digital Media  2015-11-16          3398454.0\n",
      "1066 Airsoft      2016-05-31            23668.0\n",
      "14M Genomics      2014-12-16          5000000.0\n",
      "1855              2017-06-30            20000.0\n",
      "1st Impression    2013-11-22            75005.0\n",
      "...                      ...                ...\n",
      "yWasteFood        2016-09-09            50000.0\n",
      "âcasă             2014-07-21           157791.0\n",
      "âcasă             2018-06-20          3286339.0\n",
      "âcasă             2015-10-28           799989.0\n",
      "âcasă             2017-10-31           367361.0\n",
      "\n",
      "[7800 rows x 2 columns]\n"
     ]
    }
   ],
   "source": [
    "deals = pd.read_csv('investmentsUK\\deals.csv')    #import data\n",
    "deals = deals.drop(columns=['Beauhurst company URL','Beauhurst deal URL','Amount raised (converted to GBP)'])    #drop useless information\n",
    "deals = deals.rename(columns={'Verified investment amount (converted to GBP)':'Investment amount'})    #rename column\n",
    "deals = deals.dropna()    #clean missing data rows\n",
    "deals = deals.set_index('Company name').sort_index()    #set company name as index and sort the data by company name\n",
    "print(deals)"
   ]
  },
  {
   "cell_type": "markdown",
   "metadata": {},
   "source": [
    "## import and process liquidity.csv"
   ]
  },
  {
   "cell_type": "code",
   "execution_count": 3,
   "metadata": {},
   "outputs": [
    {
     "name": "stdout",
     "output_type": "stream",
     "text": [
      "                 Incorporation date Current stage   Exit date  Exit price\n",
      "Company name                                                             \n",
      "10 Digital Media                NaN          Dead  27/11/2018         0.0\n",
      "10 Minutes With          19/03/2013          Dead  29/06/2017         0.0\n",
      "1066 Airsoft             13/05/2014          Dead  27/02/2019         0.0\n",
      "14M Genomics             09/01/2014          Dead  21/03/2016         0.0\n",
      "1855                     27/02/2013          Dead  20/02/2020         0.0\n",
      "...                             ...           ...         ...         ...\n",
      "wayve                    01/10/2013          Dead  16/08/2017         0.0\n",
      "whatleads.to             10/12/2013          Dead  16/03/2017         0.0\n",
      "wnDirect                 14/07/2011        Exited  04/01/2017         NaN\n",
      "yWasteFood               27/11/2015          Dead  20/11/2018         0.0\n",
      "âcasă                    19/07/2013          Dead  18/03/2020         0.0\n",
      "\n",
      "[4218 rows x 4 columns]\n"
     ]
    }
   ],
   "source": [
    "liquidity = pd.read_csv('investmentsUK\\liquidity.csv')    #import data\n",
    "liquidity = liquidity.drop(columns=['Beauhurst URL','Companies House Number'])    #drop useless information\n",
    "liquidity = liquidity.rename(columns={\"Date of the company's exit or death\":\"Exit date\",\"Current Stage of Evolution\":\"Current stage\"})    #rename column\n",
    "liquidity = liquidity.set_index('Company name').sort_index()    #set company name as index and sort the data by company name\n",
    "print(liquidity)"
   ]
  },
  {
   "cell_type": "markdown",
   "metadata": {},
   "source": [
    "## left join deals.csv with liquidity.csv"
   ]
  },
  {
   "cell_type": "code",
   "execution_count": 9,
   "metadata": {
    "scrolled": false
   },
   "outputs": [
    {
     "name": "stdout",
     "output_type": "stream",
     "text": [
      "                   Deal date  Investment amount Incorporation date  \\\n",
      "Company name                                                         \n",
      "10 Digital Media  2015-11-16          3398454.0                NaN   \n",
      "1066 Airsoft      2016-05-31            23668.0         13/05/2014   \n",
      "14M Genomics      2014-12-16          5000000.0         09/01/2014   \n",
      "1855              2017-06-30            20000.0         27/02/2013   \n",
      "1st Impression    2013-11-22            75005.0         26/08/2009   \n",
      "...                      ...                ...                ...   \n",
      "yWasteFood        2016-09-09            50000.0         27/11/2015   \n",
      "âcasă             2014-07-21           157791.0         19/07/2013   \n",
      "âcasă             2018-06-20          3286339.0         19/07/2013   \n",
      "âcasă             2015-10-28           799989.0         19/07/2013   \n",
      "âcasă             2017-10-31           367361.0         19/07/2013   \n",
      "\n",
      "                 Current stage   Exit date  Exit price  \n",
      "Company name                                            \n",
      "10 Digital Media          Dead  27/11/2018         0.0  \n",
      "1066 Airsoft              Dead  27/02/2019         0.0  \n",
      "14M Genomics              Dead  21/03/2016         0.0  \n",
      "1855                      Dead  20/02/2020         0.0  \n",
      "1st Impression            Dead  16/12/2019         0.0  \n",
      "...                        ...         ...         ...  \n",
      "yWasteFood                Dead  20/11/2018         0.0  \n",
      "âcasă                     Dead  18/03/2020         0.0  \n",
      "âcasă                     Dead  18/03/2020         0.0  \n",
      "âcasă                     Dead  18/03/2020         0.0  \n",
      "âcasă                     Dead  18/03/2020         0.0  \n",
      "\n",
      "[5581 rows x 6 columns]\n",
      "<class 'pandas.core.frame.DataFrame'>\n",
      "Index: 5581 entries, 10 Digital Media to âcasă\n",
      "Data columns (total 6 columns):\n",
      " #   Column              Non-Null Count  Dtype  \n",
      "---  ------              --------------  -----  \n",
      " 0   Deal date           5581 non-null   object \n",
      " 1   Investment amount   5581 non-null   float64\n",
      " 2   Incorporation date  5444 non-null   object \n",
      " 3   Current stage       5581 non-null   object \n",
      " 4   Exit date           5581 non-null   object \n",
      " 5   Exit price          5581 non-null   float64\n",
      "dtypes: float64(2), object(4)\n",
      "memory usage: 305.2+ KB\n"
     ]
    }
   ],
   "source": [
    "startups = pd.merge(deals, liquidity, on='Company name')    #left join deals.csv with liquidity.csv which have been processed\n",
    "startups.loc[(startups['Current stage'] == \"Dead\") ,'Exit price'] = 0    #put zero in the 'Exit price' column if the startup is dead\n",
    "startups = startups.dropna(subset=['Exit price'])    #clean data rows whose values in \"Exit price\" are missing\n",
    "print(startups)\n",
    "# startups.info()"
   ]
  },
  {
   "cell_type": "code",
   "execution_count": 10,
   "metadata": {},
   "outputs": [],
   "source": [
    "startups.to_csv(r'startups.csv')    #export startups.csv"
   ]
  },
  {
   "cell_type": "markdown",
   "metadata": {},
   "source": [
    "## import and process shares.csv"
   ]
  },
  {
   "cell_type": "code",
   "execution_count": 11,
   "metadata": {},
   "outputs": [
    {
     "name": "stdout",
     "output_type": "stream",
     "text": [
      "                                         Company name  number_of_shares\n",
      "Investor name                                                          \n",
      "A DAVID_MCMEEKIN                Pulmagen Therapeutics           50000.0\n",
      "A DAVID_MCMEEKIN                Pulmagen Therapeutics           73233.0\n",
      "A DONALD_MACDONALD                           Critiqom           15178.0\n",
      "A E_BODY                                   UKRD Group           43644.0\n",
      "A F_MORRISON                                     Volo          678033.0\n",
      "...                                               ...               ...\n",
      "_ZYNGA GAMES INTERNATIONAL LTD          NaturalMotion         8314837.0\n",
      "_ZYNGA GAMES INTERNATIONAL LTD          NaturalMotion        11510310.0\n",
      "_ZYNGA GAMES INTERNATIONAL LTD          NaturalMotion        21120925.0\n",
      "_ZYNGA GAMES INTERNATIONAL LTD          NaturalMotion        44646072.0\n",
      "_ZYNGA GAMES INTERNATIONAL LTD          NaturalMotion        47508454.0\n",
      "\n",
      "[87273 rows x 2 columns]\n"
     ]
    }
   ],
   "source": [
    "shares = pd.read_csv('investmentsUK\\shares.csv')    #import data\n",
    "shares = shares.loc[:,['Company name', 'first_name', 'last_name', 'number_of_shares']]    #select and retain useful information\n",
    "shares = shares.dropna(subset=['number_of_shares','last_name'])    #clean data rows whose values in \"number_of_shares\" or \"last_name\" are missing\n",
    "shares['first_name'] = shares['first_name'].fillna('')    #replace Nan to \"\" in \"first_name\" column\n",
    "shares['Investor name'] = shares['first_name'].str.cat(shares['last_name'], sep='_')    #splice two columns into \"Investor name\"\n",
    "shares = shares.drop(columns=['first_name','last_name'])    #drop useless information\n",
    "shares = shares.drop_duplicates(subset=None, keep='first', inplace=False)    #eliminate duplicate data rows\n",
    "investors = shares.set_index('Investor name').sort_values(by=['Investor name', 'number_of_shares'])    \n",
    "#set Investor name as index and sort the data first by 'Investor name' then by 'number_of_shares'\n",
    "print(investors)"
   ]
  },
  {
   "cell_type": "code",
   "execution_count": 99,
   "metadata": {},
   "outputs": [],
   "source": [
    "investors.to_csv(r'investors.csv')    #export startups.csv"
   ]
  },
  {
   "cell_type": "code",
   "execution_count": null,
   "metadata": {},
   "outputs": [],
   "source": []
  }
 ],
 "metadata": {
  "kernelspec": {
   "display_name": "Python 3",
   "language": "python",
   "name": "python3"
  },
  "language_info": {
   "codemirror_mode": {
    "name": "ipython",
    "version": 3
   },
   "file_extension": ".py",
   "mimetype": "text/x-python",
   "name": "python",
   "nbconvert_exporter": "python",
   "pygments_lexer": "ipython3",
   "version": "3.8.5"
  }
 },
 "nbformat": 4,
 "nbformat_minor": 4
}
